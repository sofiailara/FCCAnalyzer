{
 "cells": [
  {
   "cell_type": "code",
   "execution_count": 4,
   "id": "c57f7a12-1c08-49f0-a4f5-e71ebdb2703a",
   "metadata": {},
   "outputs": [
    {
     "ename": "KeyInFileError",
     "evalue": "not found: 'p8_ee_Zmumu_ec91' (with any cycle number)\n\n    Available keys: 'p8_ee_Zmumu_ecm91;1', 'p8_ee_Zmumu_ecm91/meta;1', 'p8_ee_Zmumu_ecm91/m_inv;1', 'p8_ee_Zmumu_ecm91/leps_all_p;1', 'p8_ee_Zmumu_ecm91/leps_all_q;1', 'p8_ee_Zmumu_ecm91/leps_all_no;1', 'p8_ee_Zmumu_ecm91/leps_all_phi;1'...\n\nin file /home/submit/sofilara/fccee/FCCAnalyzer/tmp/output_xsec_example.root",
     "output_type": "error",
     "traceback": [
      "\u001b[0;31m---------------------------------------------------------------------------\u001b[0m",
      "\u001b[0;31mKeyInFileError\u001b[0m                            Traceback (most recent call last)",
      "Cell \u001b[0;32mIn[4], line 10\u001b[0m\n\u001b[1;32m      7\u001b[0m \u001b[38;5;28;01mfrom\u001b[39;00m \u001b[38;5;21;01mscipy\u001b[39;00m \u001b[38;5;28;01mimport\u001b[39;00m stats\n\u001b[1;32m      9\u001b[0m f \u001b[38;5;241m=\u001b[39m uproot\u001b[38;5;241m.\u001b[39mopen(\u001b[38;5;124m\"\u001b[39m\u001b[38;5;124m/home/submit/sofilara/fccee/FCCAnalyzer/tmp/output_xsec_example.root\u001b[39m\u001b[38;5;124m\"\u001b[39m)  \n\u001b[0;32m---> 10\u001b[0m h \u001b[38;5;241m=\u001b[39m \u001b[43mf\u001b[49m\u001b[43m[\u001b[49m\u001b[38;5;124;43m'\u001b[39;49m\u001b[38;5;124;43mp8_ee_Zmumu_ec91/leps_all_no;1\u001b[39;49m\u001b[38;5;124;43m'\u001b[39;49m\u001b[43m]\u001b[49m\n\u001b[1;32m     11\u001b[0m \u001b[38;5;28mprint\u001b[39m(h)\n\u001b[1;32m     13\u001b[0m y,x \u001b[38;5;241m=\u001b[39m h\u001b[38;5;241m.\u001b[39mto_numpy()\n",
      "File \u001b[0;32m/work/submit/sofilara/miniforge3/envs/fcc/lib/python3.11/site-packages/uproot/reading.py:2090\u001b[0m, in \u001b[0;36mReadOnlyDirectory.__getitem__\u001b[0;34m(self, where)\u001b[0m\n\u001b[1;32m   2088\u001b[0m     \u001b[38;5;28;01melse\u001b[39;00m:\n\u001b[1;32m   2089\u001b[0m         last \u001b[38;5;241m=\u001b[39m step\n\u001b[0;32m-> 2090\u001b[0m         step \u001b[38;5;241m=\u001b[39m \u001b[43mstep\u001b[49m\u001b[43m[\u001b[49m\u001b[43mitem\u001b[49m\u001b[43m]\u001b[49m\n\u001b[1;32m   2092\u001b[0m \u001b[38;5;28;01melif\u001b[39;00m \u001b[38;5;28misinstance\u001b[39m(step, uproot\u001b[38;5;241m.\u001b[39mbehaviors\u001b[38;5;241m.\u001b[39mTBranch\u001b[38;5;241m.\u001b[39mHasBranches):\n\u001b[1;32m   2093\u001b[0m     \u001b[38;5;28;01mreturn\u001b[39;00m step[\u001b[38;5;124m\"\u001b[39m\u001b[38;5;124m/\u001b[39m\u001b[38;5;124m\"\u001b[39m\u001b[38;5;241m.\u001b[39mjoin(items[i:])]\n",
      "File \u001b[0;32m/work/submit/sofilara/miniforge3/envs/fcc/lib/python3.11/site-packages/uproot/reading.py:2107\u001b[0m, in \u001b[0;36mReadOnlyDirectory.__getitem__\u001b[0;34m(self, where)\u001b[0m\n\u001b[1;32m   2104\u001b[0m     \u001b[38;5;28;01mreturn\u001b[39;00m step\n\u001b[1;32m   2106\u001b[0m \u001b[38;5;28;01melse\u001b[39;00m:\n\u001b[0;32m-> 2107\u001b[0m     \u001b[38;5;28;01mreturn\u001b[39;00m \u001b[38;5;28;43mself\u001b[39;49m\u001b[38;5;241;43m.\u001b[39;49m\u001b[43mkey\u001b[49m\u001b[43m(\u001b[49m\u001b[43mwhere\u001b[49m\u001b[43m)\u001b[49m\u001b[38;5;241m.\u001b[39mget()\n",
      "File \u001b[0;32m/work/submit/sofilara/miniforge3/envs/fcc/lib/python3.11/site-packages/uproot/reading.py:2057\u001b[0m, in \u001b[0;36mReadOnlyDirectory.key\u001b[0;34m(self, where)\u001b[0m\n\u001b[1;32m   2055\u001b[0m     \u001b[38;5;28;01mreturn\u001b[39;00m last\n\u001b[1;32m   2056\u001b[0m \u001b[38;5;28;01melif\u001b[39;00m cycle \u001b[38;5;129;01mis\u001b[39;00m \u001b[38;5;28;01mNone\u001b[39;00m:\n\u001b[0;32m-> 2057\u001b[0m     \u001b[38;5;28;01mraise\u001b[39;00m uproot\u001b[38;5;241m.\u001b[39mKeyInFileError(\n\u001b[1;32m   2058\u001b[0m         item, cycle\u001b[38;5;241m=\u001b[39m\u001b[38;5;124m\"\u001b[39m\u001b[38;5;124many\u001b[39m\u001b[38;5;124m\"\u001b[39m, keys\u001b[38;5;241m=\u001b[39m\u001b[38;5;28mself\u001b[39m\u001b[38;5;241m.\u001b[39mkeys(), file_path\u001b[38;5;241m=\u001b[39m\u001b[38;5;28mself\u001b[39m\u001b[38;5;241m.\u001b[39m_file\u001b[38;5;241m.\u001b[39mfile_path\n\u001b[1;32m   2059\u001b[0m     )\n\u001b[1;32m   2060\u001b[0m \u001b[38;5;28;01melse\u001b[39;00m:\n\u001b[1;32m   2061\u001b[0m     \u001b[38;5;28;01mraise\u001b[39;00m uproot\u001b[38;5;241m.\u001b[39mKeyInFileError(\n\u001b[1;32m   2062\u001b[0m         item, cycle\u001b[38;5;241m=\u001b[39mcycle, keys\u001b[38;5;241m=\u001b[39m\u001b[38;5;28mself\u001b[39m\u001b[38;5;241m.\u001b[39mkeys(), file_path\u001b[38;5;241m=\u001b[39m\u001b[38;5;28mself\u001b[39m\u001b[38;5;241m.\u001b[39m_file\u001b[38;5;241m.\u001b[39mfile_path\n\u001b[1;32m   2063\u001b[0m     )\n",
      "\u001b[0;31mKeyInFileError\u001b[0m: not found: 'p8_ee_Zmumu_ec91' (with any cycle number)\n\n    Available keys: 'p8_ee_Zmumu_ecm91;1', 'p8_ee_Zmumu_ecm91/meta;1', 'p8_ee_Zmumu_ecm91/m_inv;1', 'p8_ee_Zmumu_ecm91/leps_all_p;1', 'p8_ee_Zmumu_ecm91/leps_all_q;1', 'p8_ee_Zmumu_ecm91/leps_all_no;1', 'p8_ee_Zmumu_ecm91/leps_all_phi;1'...\n\nin file /home/submit/sofilara/fccee/FCCAnalyzer/tmp/output_xsec_example.root"
     ]
    }
   ],
   "source": [
    "import uproot\n",
    "import numpy as np\n",
    "import matplotlib.pyplot as plt\n",
    "import matplotlib as mlp\n",
    "from scipy.stats import norm\n",
    "from scipy.optimize import curve_fit\n",
    "from scipy import stats\n",
    "\n",
    "f = uproot.open(\"/home/submit/sofilara/fccee/FCCAnalyzer/tmp/output_xsec_example.root\")  \n",
    "h = f['p8_ee_Zmumu_ec91/leps_all_no;1']\n",
    "print(h)\n",
    "\n",
    "y,x = h.to_numpy()\n",
    "\n",
    "plt.scatter(x[:-1],y, color= 'olivedrab', label='FCC-ee Data')\n",
    "\n",
    "plt.legend()"
   ]
  },
  {
   "cell_type": "code",
   "execution_count": null,
   "id": "8f3bce48-7cd1-4a53-ad50-3158a1f0eca5",
   "metadata": {},
   "outputs": [],
   "source": []
  }
 ],
 "metadata": {
  "kernelspec": {
   "display_name": "fcc",
   "language": "python",
   "name": "fcc"
  },
  "language_info": {
   "codemirror_mode": {
    "name": "ipython",
    "version": 3
   },
   "file_extension": ".py",
   "mimetype": "text/x-python",
   "name": "python",
   "nbconvert_exporter": "python",
   "pygments_lexer": "ipython3",
   "version": "3.11.0"
  }
 },
 "nbformat": 4,
 "nbformat_minor": 5
}
